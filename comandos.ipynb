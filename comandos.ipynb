{
 "cells": [
  {
   "cell_type": "code",
   "execution_count": 2,
   "id": "ebe5b85c",
   "metadata": {},
   "outputs": [],
   "source": [
    "import numpy as np\n",
    "import sympy as sp\n",
    "import matplotlib.pyplot as plt\n",
    "from scipy import linalg\n",
    "sp.interactive.printing.init_printing(use_latex='mathjax') "
   ]
  },
  {
   "cell_type": "markdown",
   "id": "35bd2d63",
   "metadata": {},
   "source": [
    "---"
   ]
  },
  {
   "cell_type": "markdown",
   "id": "8fab3522",
   "metadata": {
    "tags": []
   },
   "source": [
    "# Matrices con NumPy:"
   ]
  },
  {
   "cell_type": "code",
   "execution_count": 3,
   "id": "9d0ccdc2",
   "metadata": {},
   "outputs": [
    {
     "name": "stdout",
     "output_type": "stream",
     "text": [
      "[[0. 0. 0.]\n",
      " [0. 0. 0.]\n",
      " [0. 0. 0.]]\n"
     ]
    }
   ],
   "source": [
    "zeros = np.zeros([3,3])\n",
    "print(zeros)"
   ]
  },
  {
   "cell_type": "code",
   "execution_count": 4,
   "id": "44bb8fa3",
   "metadata": {},
   "outputs": [
    {
     "name": "stdout",
     "output_type": "stream",
     "text": [
      "[[1. 1. 1.]\n",
      " [1. 1. 1.]\n",
      " [1. 1. 1.]]\n"
     ]
    }
   ],
   "source": [
    "ones = np.ones([3,3])\n",
    "print(ones)"
   ]
  },
  {
   "cell_type": "code",
   "execution_count": 5,
   "id": "9ff8944e",
   "metadata": {},
   "outputs": [
    {
     "name": "stdout",
     "output_type": "stream",
     "text": [
      "[[1. 0. 0.]\n",
      " [0. 1. 0.]\n",
      " [0. 0. 1.]]\n"
     ]
    }
   ],
   "source": [
    "eye = np.eye(3)\n",
    "print(eye)"
   ]
  },
  {
   "cell_type": "code",
   "execution_count": 6,
   "id": "c37d10bc",
   "metadata": {},
   "outputs": [
    {
     "name": "stdout",
     "output_type": "stream",
     "text": [
      "[[1 2 3]\n",
      " [4 5 6]\n",
      " [7 8 9]]\n"
     ]
    }
   ],
   "source": [
    "a = np.matrix('1 2 3; 4 5 6; 7 8 9')\n",
    "a = np.matrix([[1,2,3],[4,5,6],[7,8,9]])\n",
    "print(a)"
   ]
  },
  {
   "cell_type": "markdown",
   "id": "dba2aebc",
   "metadata": {},
   "source": [
    "**Basic Methods:**"
   ]
  },
  {
   "cell_type": "markdown",
   "id": "39b445f9",
   "metadata": {},
   "source": [
    "```python\n",
    "a.getI()      # Returns the (multiplicative) inverse of invertible.\n",
    "a.getT()      # Returns the transpose of the matrix.\n",
    "a.max()       # Return the maximum value along an axis.\n",
    "a.min()       # Return the minimum value along an axis.\n",
    "a.mean()      # Returns the average of the matrix elements along the given axis.\n",
    "a.prod()      # Return the product of the array elements over the given axis.\n",
    "a.round()     # Return a with each element rounded to the given number of decimals.\n",
    "a.sort()      # Sort an array in-place.\n",
    "a.std()       # Return the standard deviation of the array elements along the given axis.\n",
    "a.sum()       # Returns the sum of the matrix elements, along the given axis.\n",
    "a.tolist()    # Return the matrix as a (possibly nested) list.\n",
    "a.trace()     # Return the sum along diagonals of the array.\n",
    "a.transpose() # Returns a view of the array with axes transposed.\n",
    "a.var()       # Returns the variance of the matrix elements, along the given axis.\n",
    "```"
   ]
  },
  {
   "cell_type": "markdown",
   "id": "df718149",
   "metadata": {},
   "source": [
    "**Basic Methods:** (arrays)"
   ]
  },
  {
   "cell_type": "markdown",
   "id": "79228c0a",
   "metadata": {},
   "source": [
    "```python\n",
    "np.array([])              # Crea un array.\n",
    "np.empty(dim)             # Crea un array vacío con las dimensiones especificadas en la tupla dim.\n",
    "np.zeros(dim)             # Crea un array con las dimensiones especificadas en la tupla dim cuyos elementos son todos ceros.\n",
    "np.ones(dim)              # Crea un array con las dimensiones especificadas en la tupla dim cuyos elementos son todos unos.\n",
    "np.full(dim,value)        # Crea un array con las dimensiones especificadas en la tupla dim cuyos elementos son todos value.\n",
    "np.identity(n)            # Crea la matriz identidad de dimensión n.\n",
    "np.arange(a,b,c)          # Crea un array de una dimensión cuyos elementos son la secuencia desde a hasta b tomando valores cada c.\n",
    "np.linspace(a,b,n)        # Crea un array de una dimensión cuyos elementos son la secuencia de n valores equidistantes desde a hasta b.\n",
    "np.random.random(dim)     # Crea un array con las dimensiones especificadas en la tupla dim cuyos elementos son aleatorios.\n",
    "np.random.randint(a,b,n)  # Crea y devuelve un arreglo con valores aleatorios entre a y b de n elementos.\n",
    "random.randrange(a,b)     # retorna un numero random entre s y b`\n",
    "\n",
    "a.ndi                     # Devuelve el número de dimensiones del array a.\n",
    "a.shape                   # Devuelve una tupla con las dimensiones del array a.\n",
    "a.size                    # Devuelve el número de elementos del array a.\n",
    "a.dtype                   # Devuelve el tipo de datos de los elementos del array a.\n",
    "np.diag(a, k=n)           # Devuelve la diagonal del array a partiendo de la columna n.\n",
    "np.append(a, value)       # Agrega un valor value al final del array a.\n",
    "\n",
    "a[condicion]              # Devuelve una lista con los elementos del array a que cumplen la condición condicion.\n",
    "a*num, a+num, etc         # Los operadores +, -, *, /, %, ** se utilizan para la realizar suma, resta, producto, cociente, resto y potencia a nivel de elemento.\n",
    "matriz[i,:]*num           # retorna un arreglo correspondiente a la i-ésima fila multiplicada por num.\n",
    "matriz[:,i]*num           # retorna un arreglo correspondiente a la i-ésima columna multiplicada por num.\n",
    "np.min()                  # retorna el valor mínimo de un arreglo.\n",
    "matriz[i,:].min()         # retorna el valor mínimo de la i-ésima fila.\n",
    "matriz[:,i].min()         # retorna el valor mínimo de la i-ésima columna.\n",
    "a.round(decimales)        # retorna un arreglo con todos los elementos redondeados a la cantidad de decimales pasados.\n",
    "np.sum()                  # retorna la suma de los elementos de un arreglo.\n",
    "np.mean()                 # retorna el promedio de los elementos de un arreglo.\n",
    "np.prod()                 # retorna la multiplicación de los elementos de un arreglo.\n",
    "np.all()                  # retorna verdadero si todos los elementos de un arreglo se evaluan como verdadero.\n",
    "np.any()                  # retorna verdadero si alguno de los elementos de un arreglo se evaluan como verdadero.\n",
    "np.dot(a,b)               # Devuelve el resultado del producto punto de los arrays a y b siempre y cuando sus dimensiones sean compatibles.\n",
    "np.linalg.inv(a)          # retorna la matriz inversa.\n",
    "```"
   ]
  },
  {
   "cell_type": "markdown",
   "id": "a710d62d",
   "metadata": {},
   "source": [
    "#### Factorización LU"
   ]
  },
  {
   "cell_type": "markdown",
   "id": "85286879",
   "metadata": {},
   "source": [
    "```python\n",
    "P,L,U = linalg.lu(A)     # PA = LU (A una matriz creada previamente)\n",
    "```"
   ]
  },
  {
   "cell_type": "markdown",
   "id": "88c5bf47",
   "metadata": {},
   "source": [
    "---"
   ]
  },
  {
   "cell_type": "markdown",
   "id": "56ec1d57",
   "metadata": {},
   "source": [
    "# Matrices con SymPy"
   ]
  },
  {
   "cell_type": "code",
   "execution_count": 7,
   "id": "dd515d6c",
   "metadata": {},
   "outputs": [
    {
     "data": {
      "text/latex": [
       "$\\displaystyle \\left[\\begin{matrix}1 & 2 & 3\\\\4 & 5 & 6\\\\7 & 8 & 9\\end{matrix}\\right]$"
      ],
      "text/plain": [
       "⎡1  2  3⎤\n",
       "⎢       ⎥\n",
       "⎢4  5  6⎥\n",
       "⎢       ⎥\n",
       "⎣7  8  9⎦"
      ]
     },
     "execution_count": 7,
     "metadata": {},
     "output_type": "execute_result"
    }
   ],
   "source": [
    "a = sp.Matrix([[1,2,3],[4,5,6],[7,8,9]])\n",
    "a"
   ]
  },
  {
   "cell_type": "code",
   "execution_count": 8,
   "id": "5b456609",
   "metadata": {},
   "outputs": [
    {
     "data": {
      "text/latex": [
       "$\\displaystyle \\left[\\begin{matrix}1 & 0 & 0\\\\0 & 1 & 0\\\\0 & 0 & 1\\end{matrix}\\right]$"
      ],
      "text/plain": [
       "⎡1  0  0⎤\n",
       "⎢       ⎥\n",
       "⎢0  1  0⎥\n",
       "⎢       ⎥\n",
       "⎣0  0  1⎦"
      ]
     },
     "execution_count": 8,
     "metadata": {},
     "output_type": "execute_result"
    }
   ],
   "source": [
    "sp.eye(3)   # matriz identidad"
   ]
  },
  {
   "cell_type": "code",
   "execution_count": 9,
   "id": "b375dd1c",
   "metadata": {},
   "outputs": [
    {
     "data": {
      "text/latex": [
       "$\\displaystyle \\left[\\begin{matrix}0 & 0 & 0\\\\0 & 0 & 0\\\\0 & 0 & 0\\end{matrix}\\right]$"
      ],
      "text/plain": [
       "⎡0  0  0⎤\n",
       "⎢       ⎥\n",
       "⎢0  0  0⎥\n",
       "⎢       ⎥\n",
       "⎣0  0  0⎦"
      ]
     },
     "execution_count": 9,
     "metadata": {},
     "output_type": "execute_result"
    }
   ],
   "source": [
    "sp.zeros(3)   # matriz nula"
   ]
  },
  {
   "cell_type": "code",
   "execution_count": 10,
   "id": "b69dfd8b",
   "metadata": {},
   "outputs": [
    {
     "data": {
      "text/latex": [
       "$\\displaystyle \\left[\\begin{matrix}1 & 1 & 1\\\\1 & 1 & 1\\\\1 & 1 & 1\\end{matrix}\\right]$"
      ],
      "text/plain": [
       "⎡1  1  1⎤\n",
       "⎢       ⎥\n",
       "⎢1  1  1⎥\n",
       "⎢       ⎥\n",
       "⎣1  1  1⎦"
      ]
     },
     "execution_count": 10,
     "metadata": {},
     "output_type": "execute_result"
    }
   ],
   "source": [
    "sp.ones(3)   # matriz de unos"
   ]
  },
  {
   "cell_type": "code",
   "execution_count": 11,
   "id": "2f90ad7e",
   "metadata": {},
   "outputs": [
    {
     "data": {
      "text/latex": [
       "$\\displaystyle \\left[\\begin{matrix}1 & 0 & 0\\\\0 & 2 & 0\\\\0 & 0 & 3\\end{matrix}\\right]$"
      ],
      "text/plain": [
       "⎡1  0  0⎤\n",
       "⎢       ⎥\n",
       "⎢0  2  0⎥\n",
       "⎢       ⎥\n",
       "⎣0  0  3⎦"
      ]
     },
     "execution_count": 11,
     "metadata": {},
     "output_type": "execute_result"
    }
   ],
   "source": [
    "sp.diag(1,2,3)   # matriz diagonal"
   ]
  },
  {
   "cell_type": "code",
   "execution_count": 12,
   "id": "ac00be59",
   "metadata": {},
   "outputs": [
    {
     "data": {
      "text/latex": [
       "$\\displaystyle \\left[\\begin{matrix}a & b & c\\\\d & e & f\\\\g & h & i\\end{matrix}\\right]$"
      ],
      "text/plain": [
       "⎡a  b  c⎤\n",
       "⎢       ⎥\n",
       "⎢d  e  f⎥\n",
       "⎢       ⎥\n",
       "⎣g  h  i⎦"
      ]
     },
     "execution_count": 12,
     "metadata": {},
     "output_type": "execute_result"
    }
   ],
   "source": [
    "a,b,c,d,e,f,g,h,i = sp.symbols('a b c d e f g h i')\n",
    "M = sp.Matrix([[a,b,c],[d,e,f],[g,h,i]])\n",
    "M"
   ]
  },
  {
   "cell_type": "markdown",
   "id": "a37d60e6",
   "metadata": {
    "tags": []
   },
   "source": [
    "**Basic Methods:**"
   ]
  },
  {
   "cell_type": "markdown",
   "id": "6d098744",
   "metadata": {},
   "source": [
    "```python\n",
    "sp.shape(a)      # shape\n",
    "a.row(0)         # fila 0\n",
    "a.col(-1)        # última columna\n",
    "a.inv()          # inversa\n",
    "a.T              # traspuesta\n",
    "a.det()          # determinante\n",
    "a.echelon_form() # escalonada\n",
    "a.rref()         # escalonada reducida\n",
    "a.nullspace()    # escapcio nulo\n",
    "a.rowspace()     # espacio fila\n",
    "a.columnspace()  # espacio columna\n",
    "a.row_join(b)    # agrega b a la matriz a como fila\n",
    "a.col_join(b)    # agrega b a la matriz a como fila\n",
    "```"
   ]
  },
  {
   "cell_type": "markdown",
   "id": "8599d1f3",
   "metadata": {},
   "source": [
    "---"
   ]
  },
  {
   "cell_type": "markdown",
   "id": "2136019d",
   "metadata": {},
   "source": [
    "# SEL con NumPy:"
   ]
  },
  {
   "cell_type": "markdown",
   "id": "21e4a11f",
   "metadata": {},
   "source": [
    "Para resolver un SEL en numpy se utiliza el comando linalg.solve($A$,$b$), donde $A$ es la matriz de coeficientes del sistema y $b$ el vector de términos independientes."
   ]
  },
  {
   "cell_type": "code",
   "execution_count": 13,
   "id": "11b7ba05",
   "metadata": {},
   "outputs": [
    {
     "name": "stdout",
     "output_type": "stream",
     "text": [
      "[[-0.5]\n",
      " [ 0.5]\n",
      " [ 1.5]]\n"
     ]
    }
   ],
   "source": [
    "A = np.matrix([[2,1,1],[1,2,1],[1,1,2]])   # Matriz de coeficientes\n",
    "b = np.matrix([[1],[2],[3]])   # Vector de términos independientes\n",
    "X = np.linalg.solve(A,b)\n",
    "print(X)"
   ]
  },
  {
   "cell_type": "markdown",
   "id": "fad5ff8f",
   "metadata": {},
   "source": [
    "---"
   ]
  },
  {
   "cell_type": "markdown",
   "id": "50749360",
   "metadata": {
    "tags": []
   },
   "source": [
    "# SEL con SymPy"
   ]
  },
  {
   "cell_type": "markdown",
   "id": "2e0810f2",
   "metadata": {},
   "source": [
    "Para resolver un SEL en sympy se utiliza el comando solve_linear_system ($A,x,y,z$), donde $A$ es la matriz ampliada del sistema;  $x,y,z$ son las variables.\n",
    "Para que sympy reconozca las variables, primero deben ser declaradas como tales."
   ]
  },
  {
   "cell_type": "code",
   "execution_count": 14,
   "id": "58ab5a30",
   "metadata": {},
   "outputs": [],
   "source": [
    "from sympy.abc import x,y,z,w"
   ]
  },
  {
   "cell_type": "code",
   "execution_count": 15,
   "id": "fdd53dba",
   "metadata": {},
   "outputs": [
    {
     "data": {
      "text/latex": [
       "$\\displaystyle \\left\\{ x : - \\frac{1}{2}, \\  y : \\frac{1}{2}, \\  z : \\frac{3}{2}\\right\\}$"
      ],
      "text/plain": [
       "{x: -1/2, y: 1/2, z: 3/2}"
      ]
     },
     "execution_count": 15,
     "metadata": {},
     "output_type": "execute_result"
    }
   ],
   "source": [
    "A = sp.Matrix([[2,1,1,1],[1,2,1,2],[1,1,2,3]])   # Matriz ampliada del SEL\n",
    "sp.solve_linear_system(A,x,y,z)"
   ]
  },
  {
   "cell_type": "markdown",
   "id": "49fa474d",
   "metadata": {},
   "source": [
    "Si el SEL no tiene solución o tiene infinitas soluciones, el comando solve_linear_system no realiza ninguna acción o calcula las soluciones y las devuelve en forma paramétrica."
   ]
  },
  {
   "cell_type": "code",
   "execution_count": 16,
   "id": "4d843d13",
   "metadata": {},
   "outputs": [],
   "source": [
    "A = sp.Matrix([[2,1,1,1],[1,1,2,2],[1,1,2,3]])\n",
    "sp.solve_linear_system(A,x,y,z)"
   ]
  },
  {
   "cell_type": "code",
   "execution_count": 17,
   "id": "70d120b6",
   "metadata": {},
   "outputs": [
    {
     "data": {
      "text/latex": [
       "$\\displaystyle \\left\\{ x : z - 1, \\  y : 3 - 3 z\\right\\}$"
      ],
      "text/plain": [
       "{x: z - 1, y: 3 - 3⋅z}"
      ]
     },
     "execution_count": 17,
     "metadata": {},
     "output_type": "execute_result"
    }
   ],
   "source": [
    "A = sp.Matrix([[2,1,1,1],[1,1,2,2],[1,1,2,2]])\n",
    "sp.solve_linear_system(A,x,y,z)"
   ]
  },
  {
   "cell_type": "code",
   "execution_count": 18,
   "id": "d768460d",
   "metadata": {},
   "outputs": [
    {
     "data": {
      "text/latex": [
       "$\\displaystyle \\left\\{ x : 2 w + z, \\  y : - 5 w - 3 z + 1\\right\\}$"
      ],
      "text/plain": [
       "{x: 2⋅w + z, y: -5⋅w - 3⋅z + 1}"
      ]
     },
     "execution_count": 18,
     "metadata": {},
     "output_type": "execute_result"
    }
   ],
   "source": [
    "A= sp.Matrix([[ 2,1,1,1,1] ,[4,2,2,2,2] ,[1,1,2,3,1]])\n",
    "sp.solve_linear_system (A,x,y,z,w)"
   ]
  },
  {
   "cell_type": "markdown",
   "id": "db432697",
   "metadata": {},
   "source": [
    "---"
   ]
  },
  {
   "cell_type": "markdown",
   "id": "58f2b647",
   "metadata": {},
   "source": [
    "# Valores y Vectores Propios"
   ]
  },
  {
   "cell_type": "markdown",
   "id": "30145e9e",
   "metadata": {
    "id": "WufxkIBaHkEl"
   },
   "source": [
    "### Definición\n",
    "\n",
    "$\\lambda\\in\\mathbb{R}$ es valor propio asociado a la matriz cuadrada $A\\in M_n(\\mathbb{R})$ si existe un vector no nulo $x\\in \\mathbb{R}^n$ tal que $Ax=\\lambda x$. En ese caso se dice que $x$ es un vector propio de $A$, asociado al valor propio $\\lambda$."
   ]
  },
  {
   "cell_type": "markdown",
   "id": "7ce2b8f8",
   "metadata": {
    "id": "WMYuJRyxHkEn"
   },
   "source": [
    "### Polinomio característico\n",
    "\n",
    "Sea $A \\in M_n(\\mathbb{R})$. Diremos que el polinomio característico de $A$  es el polinomio de grado $n$ definido por $p(x)=\\det(A-x I)$ y sus raíces son los valores propios de $A$."
   ]
  },
  {
   "cell_type": "code",
   "execution_count": 19,
   "id": "bd62b49f",
   "metadata": {},
   "outputs": [],
   "source": [
    "from sympy.abc import x "
   ]
  },
  {
   "cell_type": "markdown",
   "id": "2845ee3c",
   "metadata": {},
   "source": [
    "**Ejemplo 1:**"
   ]
  },
  {
   "cell_type": "code",
   "execution_count": 20,
   "id": "98402d0a",
   "metadata": {},
   "outputs": [
    {
     "data": {
      "text/latex": [
       "$\\displaystyle \\left[\\begin{matrix}4 - x & 1\\\\0 & 2 - x\\end{matrix}\\right]$"
      ],
      "text/plain": [
       "⎡4 - x    1  ⎤\n",
       "⎢            ⎥\n",
       "⎣  0    2 - x⎦"
      ]
     },
     "execution_count": 20,
     "metadata": {},
     "output_type": "execute_result"
    }
   ],
   "source": [
    "A = sp.Matrix([[4,1],[0,2]])\n",
    "A - x * sp.eye(2)   # (A - xI)"
   ]
  },
  {
   "cell_type": "code",
   "execution_count": 21,
   "id": "c10740ca",
   "metadata": {},
   "outputs": [
    {
     "data": {
      "text/latex": [
       "$\\displaystyle x^{2} - 6 x + 8$"
      ],
      "text/plain": [
       " 2          \n",
       "x  - 6⋅x + 8"
      ]
     },
     "execution_count": 21,
     "metadata": {},
     "output_type": "execute_result"
    }
   ],
   "source": [
    "p = (A - x * sp.eye(2)).det()   # det(A - xI)\n",
    "p"
   ]
  },
  {
   "cell_type": "code",
   "execution_count": 22,
   "id": "fc0c8559",
   "metadata": {},
   "outputs": [
    {
     "data": {
      "text/latex": [
       "$\\displaystyle x^{2} - 6 x + 8$"
      ],
      "text/plain": [
       " 2          \n",
       "x  - 6⋅x + 8"
      ]
     },
     "execution_count": 22,
     "metadata": {},
     "output_type": "execute_result"
    }
   ],
   "source": [
    "sp.expand(p)"
   ]
  },
  {
   "cell_type": "code",
   "execution_count": 23,
   "id": "ab1da236",
   "metadata": {},
   "outputs": [
    {
     "data": {
      "text/latex": [
       "$\\displaystyle \\left[ 2, \\  4\\right]$"
      ],
      "text/plain": [
       "[2, 4]"
      ]
     },
     "execution_count": 23,
     "metadata": {},
     "output_type": "execute_result"
    }
   ],
   "source": [
    "sp.solve(p,x)   # Calcular las raices del polinomio (valores propios)"
   ]
  },
  {
   "cell_type": "markdown",
   "id": "f22e5731",
   "metadata": {
    "id": "f2hn2EUxHkEp"
   },
   "source": [
    "### Multiplicidad algebraica\n",
    "\n",
    "La multiplicidad algebraica de un valor propio, digamos $\\lambda$, es la potencia a la cual aparece el factor $(x-\\lambda)$ en la factorización del polimonio característico correspondiente."
   ]
  },
  {
   "cell_type": "code",
   "execution_count": 24,
   "id": "01d68d4c",
   "metadata": {},
   "outputs": [
    {
     "data": {
      "text/latex": [
       "$\\displaystyle \\left(x - 4\\right) \\left(x - 2\\right)$"
      ],
      "text/plain": [
       "(x - 4)⋅(x - 2)"
      ]
     },
     "execution_count": 24,
     "metadata": {},
     "output_type": "execute_result"
    }
   ],
   "source": [
    "p.factor()"
   ]
  },
  {
   "cell_type": "markdown",
   "id": "3b0c9ec1",
   "metadata": {
    "id": "L0UFLCMPHkEp"
   },
   "source": [
    "$\\lambda=4$ tiene multiplicidad algebraica 1, igual que $\\lambda=2$."
   ]
  },
  {
   "cell_type": "markdown",
   "id": "3cda8950",
   "metadata": {
    "id": "-Y6rvJb3HkEp",
    "tags": []
   },
   "source": [
    "### Cálculo de valores y vectores propios de una matriz\n",
    "\n",
    "Para calcular valores y vectores propios de una matriz $A$ en sympy se utilizan los comandos A.eigenvals y A.eigenvects."
   ]
  },
  {
   "cell_type": "code",
   "execution_count": 25,
   "id": "c877fb14",
   "metadata": {},
   "outputs": [
    {
     "data": {
      "text/latex": [
       "$\\displaystyle \\left\\{ 2 : 1, \\  4 : 1\\right\\}$"
      ],
      "text/plain": [
       "{2: 1, 4: 1}"
      ]
     },
     "execution_count": 25,
     "metadata": {},
     "output_type": "execute_result"
    }
   ],
   "source": [
    "A.eigenvals()   # La salida indica {Valor propio:Multiplicidad algebraica,...}"
   ]
  },
  {
   "cell_type": "code",
   "execution_count": 26,
   "id": "ca7eee4f",
   "metadata": {},
   "outputs": [
    {
     "data": {
      "text/latex": [
       "$\\displaystyle \\left[ \\left( 2, \\  1, \\  \\left[ \\left[\\begin{matrix}- \\frac{1}{2}\\\\1\\end{matrix}\\right]\\right]\\right), \\  \\left( 4, \\  1, \\  \\left[ \\left[\\begin{matrix}1\\\\0\\end{matrix}\\right]\\right]\\right)\\right]$"
      ],
      "text/plain": [
       "⎡⎛      ⎡⎡-1/2⎤⎤⎞  ⎛      ⎡⎡1⎤⎤⎞⎤\n",
       "⎢⎜2, 1, ⎢⎢    ⎥⎥⎟, ⎜4, 1, ⎢⎢ ⎥⎥⎟⎥\n",
       "⎣⎝      ⎣⎣ 1  ⎦⎦⎠  ⎝      ⎣⎣0⎦⎦⎠⎦"
      ]
     },
     "execution_count": 26,
     "metadata": {},
     "output_type": "execute_result"
    }
   ],
   "source": [
    "A.eigenvects() #La salida indica [(Vp,Ma,Vectores propios),...]"
   ]
  },
  {
   "cell_type": "markdown",
   "id": "8daadb5c",
   "metadata": {},
   "source": [
    "**Ejemplo 2:**"
   ]
  },
  {
   "cell_type": "code",
   "execution_count": 27,
   "id": "cf8448c8",
   "metadata": {},
   "outputs": [
    {
     "data": {
      "text/latex": [
       "$\\displaystyle \\left[ 0, \\  6\\right]$"
      ],
      "text/plain": [
       "[0, 6]"
      ]
     },
     "execution_count": 27,
     "metadata": {},
     "output_type": "execute_result"
    }
   ],
   "source": [
    "B = sp.Matrix([[7,1,-2],[-3,3,6],[2,2,2]])\n",
    "q = (B - x * sp.eye(3)).det()\n",
    "sp.solve(q,x)"
   ]
  },
  {
   "cell_type": "code",
   "execution_count": 28,
   "id": "90414bd2",
   "metadata": {},
   "outputs": [
    {
     "data": {
      "text/latex": [
       "$\\displaystyle - x \\left(x - 6\\right)^{2}$"
      ],
      "text/plain": [
       "          2\n",
       "-x⋅(x - 6) "
      ]
     },
     "execution_count": 28,
     "metadata": {},
     "output_type": "execute_result"
    }
   ],
   "source": [
    "q.factor()"
   ]
  },
  {
   "cell_type": "markdown",
   "id": "da338576",
   "metadata": {
    "id": "bIcSA_ioHkEr"
   },
   "source": [
    "$\\lambda=0$ tiene multiplicidad algebraica 1, mientras que $\\lambda=6$ tiene multiplicidad algebraica 2."
   ]
  },
  {
   "cell_type": "code",
   "execution_count": 29,
   "id": "149b7390",
   "metadata": {
    "colab": {
     "base_uri": "https://localhost:8080/"
    },
    "id": "6RG_2yCVHkEs",
    "outputId": "7541132b-5aa9-43f3-f434-ee8ec730cccc"
   },
   "outputs": [
    {
     "data": {
      "text/latex": [
       "$\\displaystyle \\left\\{ 0 : 1, \\  6 : 2\\right\\}$"
      ],
      "text/plain": [
       "{0: 1, 6: 2}"
      ]
     },
     "execution_count": 29,
     "metadata": {},
     "output_type": "execute_result"
    }
   ],
   "source": [
    "B.eigenvals() #La salida indica {Valor propio:Multiplicidad algebraica,...}"
   ]
  },
  {
   "cell_type": "code",
   "execution_count": 30,
   "id": "f7597615",
   "metadata": {
    "colab": {
     "base_uri": "https://localhost:8080/",
     "height": 78
    },
    "id": "lPxhanwRHkEs",
    "outputId": "98ddf583-b804-45bb-d7a1-a8eb88e65677"
   },
   "outputs": [
    {
     "data": {
      "text/latex": [
       "$\\displaystyle \\left[ \\left( 0, \\  1, \\  \\left[ \\left[\\begin{matrix}\\frac{1}{2}\\\\- \\frac{3}{2}\\\\1\\end{matrix}\\right]\\right]\\right), \\  \\left( 6, \\  2, \\  \\left[ \\left[\\begin{matrix}-1\\\\1\\\\0\\end{matrix}\\right], \\  \\left[\\begin{matrix}2\\\\0\\\\1\\end{matrix}\\right]\\right]\\right)\\right]$"
      ],
      "text/plain": [
       "⎡⎛      ⎡⎡1/2 ⎤⎤⎞  ⎛      ⎡⎡-1⎤  ⎡2⎤⎤⎞⎤\n",
       "⎢⎜      ⎢⎢    ⎥⎥⎟  ⎜      ⎢⎢  ⎥  ⎢ ⎥⎥⎟⎥\n",
       "⎢⎜0, 1, ⎢⎢-3/2⎥⎥⎟, ⎜6, 2, ⎢⎢1 ⎥, ⎢0⎥⎥⎟⎥\n",
       "⎢⎜      ⎢⎢    ⎥⎥⎟  ⎜      ⎢⎢  ⎥  ⎢ ⎥⎥⎟⎥\n",
       "⎣⎝      ⎣⎣ 1  ⎦⎦⎠  ⎝      ⎣⎣0 ⎦  ⎣1⎦⎦⎠⎦"
      ]
     },
     "execution_count": 30,
     "metadata": {},
     "output_type": "execute_result"
    }
   ],
   "source": [
    "B.eigenvects() #La salida indica [(Vp,Ma,Vectores propios),...]"
   ]
  },
  {
   "cell_type": "markdown",
   "id": "124e6a7b",
   "metadata": {},
   "source": [
    "### Diagonalización de matrices\n",
    "\n",
    "Para diagonalizar una matriz $A$ con sympy hay dos comandos relevantes. Se utiliza A.is_diagonalizable() para determinar si la matriz es o no diagonalizable y se utiliza A.diagonalize para obtener las matrices $P$ y $D$."
   ]
  },
  {
   "cell_type": "code",
   "execution_count": 31,
   "id": "45491289",
   "metadata": {},
   "outputs": [
    {
     "data": {
      "text/latex": [
       "$\\displaystyle \\left[\\begin{matrix}7 & 1 & -2\\\\-3 & 3 & 6\\\\2 & 2 & 2\\end{matrix}\\right]$"
      ],
      "text/plain": [
       "⎡7   1  -2⎤\n",
       "⎢         ⎥\n",
       "⎢-3  3  6 ⎥\n",
       "⎢         ⎥\n",
       "⎣2   2  2 ⎦"
      ]
     },
     "execution_count": 31,
     "metadata": {},
     "output_type": "execute_result"
    }
   ],
   "source": [
    "A = sp.Matrix([[7,1,-2],[-3,3,6],[2,2,2]])\n",
    "A"
   ]
  },
  {
   "cell_type": "code",
   "execution_count": 32,
   "id": "1d6f7018",
   "metadata": {},
   "outputs": [
    {
     "data": {
      "text/plain": [
       "True"
      ]
     },
     "execution_count": 32,
     "metadata": {},
     "output_type": "execute_result"
    }
   ],
   "source": [
    "A.is_diagonalizable()"
   ]
  },
  {
   "cell_type": "code",
   "execution_count": 33,
   "id": "9bc3655c",
   "metadata": {},
   "outputs": [],
   "source": [
    "(P,D)=A.diagonalize()"
   ]
  },
  {
   "cell_type": "code",
   "execution_count": 34,
   "id": "a326226a",
   "metadata": {},
   "outputs": [
    {
     "data": {
      "text/latex": [
       "$\\displaystyle \\left[\\begin{matrix}1 & -1 & 2\\\\-3 & 1 & 0\\\\2 & 0 & 1\\end{matrix}\\right]$"
      ],
      "text/plain": [
       "⎡1   -1  2⎤\n",
       "⎢         ⎥\n",
       "⎢-3  1   0⎥\n",
       "⎢         ⎥\n",
       "⎣2   0   1⎦"
      ]
     },
     "execution_count": 34,
     "metadata": {},
     "output_type": "execute_result"
    }
   ],
   "source": [
    "P"
   ]
  },
  {
   "cell_type": "code",
   "execution_count": 35,
   "id": "b541c237",
   "metadata": {},
   "outputs": [
    {
     "data": {
      "text/latex": [
       "$\\displaystyle \\left[\\begin{matrix}0 & 0 & 0\\\\0 & 6 & 0\\\\0 & 0 & 6\\end{matrix}\\right]$"
      ],
      "text/plain": [
       "⎡0  0  0⎤\n",
       "⎢       ⎥\n",
       "⎢0  6  0⎥\n",
       "⎢       ⎥\n",
       "⎣0  0  6⎦"
      ]
     },
     "execution_count": 35,
     "metadata": {},
     "output_type": "execute_result"
    }
   ],
   "source": [
    "D "
   ]
  },
  {
   "cell_type": "markdown",
   "id": "8a96c23e",
   "metadata": {},
   "source": [
    "Note que no ordena los valores propios de mayor a menor"
   ]
  },
  {
   "cell_type": "markdown",
   "id": "e9e752b2",
   "metadata": {},
   "source": [
    "---"
   ]
  },
  {
   "cell_type": "markdown",
   "id": "1eae533c",
   "metadata": {},
   "source": [
    "# Gráficos con Matplotlib"
   ]
  },
  {
   "cell_type": "markdown",
   "id": "bbfc9031",
   "metadata": {},
   "source": [
    "#### La forma más simple:"
   ]
  },
  {
   "cell_type": "code",
   "execution_count": 36,
   "id": "4ebdfdee",
   "metadata": {},
   "outputs": [
    {
     "data": {
      "text/plain": [
       "<function matplotlib.pyplot.show(close=None, block=None)>"
      ]
     },
     "execution_count": 36,
     "metadata": {},
     "output_type": "execute_result"
    },
    {
     "data": {
      "image/png": "[encoded data removed]",
      "text/plain": [
       "<Figure size 432x288 with 1 Axes>"
      ]
     },
     "metadata": {
      "needs_background": "light"
     },
     "output_type": "display_data"
    }
   ],
   "source": [
    "eje_x = [1, 2, 3, 4, 5]  # lista con los valores del eje x.\n",
    "eje_y = [1, 2, 3, 4, 5]  # lista con los valores del eje y.\n",
    "\n",
    "plt.plot(eje_x, eje_y)  # cración del gráfico con datos de eje_x y eje_y.\n",
    "plt.show  # función que imprime el gráfico."
   ]
  },
  {
   "cell_type": "code",
   "execution_count": 37,
   "id": "daa54a27",
   "metadata": {},
   "outputs": [
    {
     "data": {
      "image/png": "[encoded data removed]",
      "text/plain": [
       "<Figure size 432x288 with 1 Axes>"
      ]
     },
     "metadata": {
      "needs_background": "light"
     },
     "output_type": "display_data"
    }
   ],
   "source": [
    "eje_x = np.arange(1, 11)  # array con valores desde el 1 al 10.\n",
    "\n",
    "plt.plot(eje_x**2, label='Función cuadrática')  # función cuadrática para valores de eje_x. \"Label\" = nombre de la función.\n",
    "plt.plot(eje_x**3, label='Función cúbica')      # función cúbica para valores de eje_x.\n",
    "\n",
    "plt.xlabel('Eje x')     # Nombre del eje x.\n",
    "plt.ylabel('Eje y')     # Nombre del eje y.\n",
    "plt.title('Gráfico 1')  # Nombre del gráfico.\n",
    "\n",
    "plt.legend()  # Imprime los \"label\" de cada función.\n",
    "\n",
    "plt.show()"
   ]
  },
  {
   "cell_type": "code",
   "execution_count": 38,
   "id": "bebd434a",
   "metadata": {},
   "outputs": [
    {
     "data": {
      "image/png": "[encoded data removed]",
      "text/plain": [
       "<Figure size 600x400 with 1 Axes>"
      ]
     },
     "metadata": {},
     "output_type": "display_data"
    }
   ],
   "source": [
    "plt.style.use('default')   # Estilo del gráfico.\n",
    "plt.figure(figsize=(6,4))  # Definir el tamaño del gráfico.\n",
    "\n",
    "eje_x = np.arange(1, 11)  # array con valores desde el 1 al 10.\n",
    "\n",
    "plt.plot(eje_x**2, marker='o', color='g', label='Función cuadrática')  # función cuadrática para valores de eje_x. \"Label\" = nombre de la función.\n",
    "plt.plot(eje_x**3, marker='s', color='r', label='Función cúbica')      # función cúbica para valores de eje_x.\n",
    "\n",
    "plt.xlabel('Eje x')     # Nombre del eje x.\n",
    "plt.ylabel('Eje y')     # Nombre del eje y.\n",
    "plt.title('Gráfico 1')  # Nombre del gráfico.\n",
    "\n",
    "plt.legend()  # Imprime los \"label\" de cada función.\n",
    "\n",
    "plt.show()"
   ]
  },
  {
   "cell_type": "markdown",
   "id": "c2c72075",
   "metadata": {},
   "source": [
    "| Parámetro | Significado y valores |\n",
    "| --- | --- |\n",
    "| alpha | grado de transparencia, float (0.0=transparente a 1.0=opaco) |\n",
    "| color o c | Color de matplotlib, \"b\" \"g\" \"r\" \"c\" \"m\" \"y\" \"k\" \"w\" |\n",
    "| label | Etiqueta con cadena de texto, string |\n",
    "| markeredgecolor o mec | Color del borde del símbolo |\n",
    "| markeredgewidth o mew | Ancho del borde del símbolo, float (en número de puntos) |\n",
    "| markerfacecolor o mfc | Color del símbolo |\n",
    "| markersize o ms | Tamaño del símbolo, float (en número de puntos) |\n",
    "| linestyle o ls | Tipo de línea, “-“ “–” “-.” “:” “None” |\n",
    "| linewidth o lw | Ancho de la línea, float (en número de puntos) |\n",
    "| marker | Tipo de símbolo,”+” “*” “,” “.” “1” “2” “3” “4” “<” “>” “D” “H” “^” “_” “d” “h” “o” “p” “s” “v” “x” “|” TICKUP TICKDOWN TICKLEFT TICKRIGHT |"
   ]
  },
  {
   "cell_type": "markdown",
   "id": "9014bca8",
   "metadata": {},
   "source": [
    "Estilos de gráfico:"
   ]
  },
  {
   "cell_type": "markdown",
   "id": "fb822da8",
   "metadata": {},
   "source": [
    "<img src=\"https://www.beyondpython.com/assets/beyondpython/article/5/matplotlib_style_gallery.png\" alt=\"drawing\" width=\"600\"/>"
   ]
  }
 ],
 "metadata": {
  "kernelspec": {
   "display_name": "Python 3.10.4 ('vscode')",
   "language": "python",
   "name": "python3"
  },
  "language_info": {
   "codemirror_mode": {
    "name": "ipython",
    "version": 3
   },
   "file_extension": ".py",
   "mimetype": "text/x-python",
   "name": "python",
   "nbconvert_exporter": "python",
   "pygments_lexer": "ipython3",
   "version": "3.10.4"
  },
  "vscode": {
   "interpreter": {
    "hash": "0cd0ca3843055f6c67784ffa9bbda3993bf1e6b764992b758004288f2313c2eb"
   }
  }
 },
 "nbformat": 4,
 "nbformat_minor": 5
}
